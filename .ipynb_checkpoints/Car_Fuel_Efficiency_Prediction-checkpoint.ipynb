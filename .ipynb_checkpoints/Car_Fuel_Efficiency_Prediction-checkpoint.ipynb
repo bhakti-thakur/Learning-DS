{
 "cells": [
  {
   "cell_type": "code",
   "execution_count": 1,
   "id": "4e6eb88f-15c4-40a7-84e6-8505e00b1de3",
   "metadata": {},
   "outputs": [],
   "source": [
    "import pandas as pd"
   ]
  },
  {
   "cell_type": "code",
   "execution_count": 2,
   "id": "cd914ae6-3b72-4765-8ff3-07d810190849",
   "metadata": {},
   "outputs": [],
   "source": [
    "import numpy as np"
   ]
  },
  {
   "cell_type": "code",
   "execution_count": 3,
   "id": "9663e23f-a54a-4a0a-8b2f-8630144ddac4",
   "metadata": {},
   "outputs": [],
   "source": [
    "import matplotlib.pyplot as plt"
   ]
  },
  {
   "cell_type": "code",
   "execution_count": 4,
   "id": "2353cc00-45fb-4d1a-9363-0ac3263a5426",
   "metadata": {},
   "outputs": [],
   "source": [
    "import seaborn as sns"
   ]
  },
  {
   "cell_type": "code",
   "execution_count": 5,
   "id": "ea4240fe-748f-4fea-87d0-daea57ab371d",
   "metadata": {},
   "outputs": [],
   "source": [
    "from sklearn.model_selection import train_test_split"
   ]
  },
  {
   "cell_type": "code",
   "execution_count": 6,
   "id": "ecf39e7a-6c66-4672-9272-7b178e9beeb1",
   "metadata": {},
   "outputs": [],
   "source": [
    "from sklearn.linear_model import LinearRegression"
   ]
  },
  {
   "cell_type": "code",
   "execution_count": 7,
   "id": "9c74a1fe-eff3-4966-b430-044a09cd306b",
   "metadata": {},
   "outputs": [],
   "source": [
    "from sklearn.metrics import mean_squared_error, r2_score"
   ]
  },
  {
   "cell_type": "code",
   "execution_count": 8,
   "id": "6c7c3ee2-d0a8-4e68-8ff5-f3f27d578c23",
   "metadata": {},
   "outputs": [],
   "source": [
    "uri = 'http://archive.ics.uci.edu/ml/machine-learning-databases/auto-mpg/auto-mpg.data'"
   ]
  },
  {
   "cell_type": "code",
   "execution_count": 9,
   "id": "bd0c0b74-5bee-4d77-8586-fdb04fcd15c1",
   "metadata": {},
   "outputs": [],
   "source": [
    "columns = ['mpg', 'cylinders', 'displacement', 'horsepower', 'weight', 'acceleration', 'model_year', 'origin', 'car_name']"
   ]
  },
  {
   "cell_type": "code",
   "execution_count": 10,
   "id": "1530d95c-b4d0-4736-a605-20d92eee393e",
   "metadata": {},
   "outputs": [],
   "source": [
    "df = pd.read_csv(uri, names = columns, na_values = '?', comment='\\t', sep = ' ', skipinitialspace=True)"
   ]
  },
  {
   "cell_type": "code",
   "execution_count": null,
   "id": "05c38654-c619-448c-b483-580bcb751569",
   "metadata": {},
   "outputs": [],
   "source": []
  }
 ],
 "metadata": {
  "kernelspec": {
   "display_name": "Python 3 (ipykernel)",
   "language": "python",
   "name": "python3"
  },
  "language_info": {
   "codemirror_mode": {
    "name": "ipython",
    "version": 3
   },
   "file_extension": ".py",
   "mimetype": "text/x-python",
   "name": "python",
   "nbconvert_exporter": "python",
   "pygments_lexer": "ipython3",
   "version": "3.12.7"
  }
 },
 "nbformat": 4,
 "nbformat_minor": 5
}
