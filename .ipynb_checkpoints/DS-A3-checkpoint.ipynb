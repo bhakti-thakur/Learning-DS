{
 "cells": [
  {
   "cell_type": "code",
   "execution_count": 1,
   "id": "49c067ac-365e-4dae-9ec2-31e5e55a1040",
   "metadata": {},
   "outputs": [],
   "source": [
    "import pandas as pd"
   ]
  },
  {
   "cell_type": "code",
   "execution_count": 2,
   "id": "82ab453e-7856-4253-88e9-3ff20ba8bf72",
   "metadata": {},
   "outputs": [],
   "source": [
    "import numpy as np"
   ]
  },
  {
   "cell_type": "code",
   "execution_count": 3,
   "id": "afecfa0f-4e7d-400e-bdf7-450b127b761d",
   "metadata": {},
   "outputs": [],
   "source": [
    "import seaborn as sns"
   ]
  },
  {
   "cell_type": "code",
   "execution_count": 4,
   "id": "09f13735-7af0-42c0-828c-310ac520d536",
   "metadata": {},
   "outputs": [],
   "source": [
    "from sklearn.datasets import load_iris"
   ]
  },
  {
   "cell_type": "code",
   "execution_count": 5,
   "id": "83a27571-8bf5-46f2-be03-ba1d5dddd2c1",
   "metadata": {},
   "outputs": [],
   "source": [
    "iris = load_iris(as_frame=True)"
   ]
  },
  {
   "cell_type": "code",
   "execution_count": 6,
   "id": "9bc6cb9a-0b85-4b21-a265-9df3e6c0e99a",
   "metadata": {},
   "outputs": [],
   "source": [
    "df = iris.frame"
   ]
  },
  {
   "cell_type": "code",
   "execution_count": 7,
   "id": "0762a418-aeaf-458f-ac92-e70727a1fec8",
   "metadata": {},
   "outputs": [],
   "source": [
    "df['species'] =  iris.target_names[iris.target]"
   ]
  },
  {
   "cell_type": "code",
   "execution_count": 8,
   "id": "1686132f-08cb-4c19-888c-8def1a3786d5",
   "metadata": {},
   "outputs": [],
   "source": [
    "grouped_summary = df.groupby('species').agg(['mean', 'median', 'min', 'max', 'std'])"
   ]
  },
  {
   "cell_type": "code",
   "execution_count": 9,
   "id": "1aeb9698-4e6c-44da-ad61-51cb370587a5",
   "metadata": {},
   "outputs": [
    {
     "name": "stdout",
     "output_type": "stream",
     "text": [
      "           sepal length (cm)                            sepal width (cm)  \\\n",
      "                        mean median  min  max       std             mean   \n",
      "species                                                                    \n",
      "setosa                 5.006    5.0  4.3  5.8  0.352490            3.428   \n",
      "versicolor             5.936    5.9  4.9  7.0  0.516171            2.770   \n",
      "virginica              6.588    6.5  4.9  7.9  0.635880            2.974   \n",
      "\n",
      "                                       ... petal width (cm)                   \\\n",
      "           median  min  max       std  ...             mean median  min  max   \n",
      "species                                ...                                     \n",
      "setosa        3.4  2.3  4.4  0.379064  ...            0.246    0.2  0.1  0.6   \n",
      "versicolor    2.8  2.0  3.4  0.313798  ...            1.326    1.3  1.0  1.8   \n",
      "virginica     3.0  2.2  3.8  0.322497  ...            2.026    2.0  1.4  2.5   \n",
      "\n",
      "                     target                      \n",
      "                 std   mean median min max  std  \n",
      "species                                          \n",
      "setosa      0.105386    0.0    0.0   0   0  0.0  \n",
      "versicolor  0.197753    1.0    1.0   1   1  0.0  \n",
      "virginica   0.274650    2.0    2.0   2   2  0.0  \n",
      "\n",
      "[3 rows x 25 columns]\n"
     ]
    }
   ],
   "source": [
    "print(grouped_summary)"
   ]
  },
  {
   "cell_type": "code",
   "execution_count": 10,
   "id": "a188d793-8d1a-439a-bdd6-b096f3554bfc",
   "metadata": {},
   "outputs": [],
   "source": [
    "sepal_lengths_by_species = df.groupby('species')['sepal length (cm)'].apply(list)"
   ]
  },
  {
   "cell_type": "code",
   "execution_count": 11,
   "id": "415ec07b-23a6-4171-82da-d26901851a5c",
   "metadata": {},
   "outputs": [
    {
     "name": "stdout",
     "output_type": "stream",
     "text": [
      "species\n",
      "setosa        [5.1, 4.9, 4.7, 4.6, 5.0, 5.4, 4.6, 5.0, 4.4, ...\n",
      "versicolor    [7.0, 6.4, 6.9, 5.5, 6.5, 5.7, 6.3, 4.9, 6.6, ...\n",
      "virginica     [6.3, 5.8, 7.1, 6.3, 6.5, 7.6, 4.9, 7.3, 6.7, ...\n",
      "Name: sepal length (cm), dtype: object\n"
     ]
    }
   ],
   "source": [
    "print(sepal_lengths_by_species )"
   ]
  },
  {
   "cell_type": "code",
   "execution_count": 13,
   "id": "7a5c5071-f412-44cf-957b-689ce3cf5c3b",
   "metadata": {},
   "outputs": [
    {
     "name": "stdout",
     "output_type": "stream",
     "text": [
      "\n",
      " stats for setosa:\n",
      "       sepal length (cm)  sepal width (cm)  petal length (cm)  \\\n",
      "count           50.00000         50.000000          50.000000   \n",
      "mean             5.00600          3.428000           1.462000   \n",
      "std              0.35249          0.379064           0.173664   \n",
      "min              4.30000          2.300000           1.000000   \n",
      "25%              4.80000          3.200000           1.400000   \n",
      "50%              5.00000          3.400000           1.500000   \n",
      "75%              5.20000          3.675000           1.575000   \n",
      "max              5.80000          4.400000           1.900000   \n",
      "\n",
      "       petal width (cm)  target  \n",
      "count         50.000000    50.0  \n",
      "mean           0.246000     0.0  \n",
      "std            0.105386     0.0  \n",
      "min            0.100000     0.0  \n",
      "25%            0.200000     0.0  \n",
      "50%            0.200000     0.0  \n",
      "75%            0.300000     0.0  \n",
      "max            0.600000     0.0  \n",
      "\n",
      " stats for versicolor:\n",
      "       sepal length (cm)  sepal width (cm)  petal length (cm)  \\\n",
      "count          50.000000         50.000000          50.000000   \n",
      "mean            5.936000          2.770000           4.260000   \n",
      "std             0.516171          0.313798           0.469911   \n",
      "min             4.900000          2.000000           3.000000   \n",
      "25%             5.600000          2.525000           4.000000   \n",
      "50%             5.900000          2.800000           4.350000   \n",
      "75%             6.300000          3.000000           4.600000   \n",
      "max             7.000000          3.400000           5.100000   \n",
      "\n",
      "       petal width (cm)  target  \n",
      "count         50.000000    50.0  \n",
      "mean           1.326000     1.0  \n",
      "std            0.197753     0.0  \n",
      "min            1.000000     1.0  \n",
      "25%            1.200000     1.0  \n",
      "50%            1.300000     1.0  \n",
      "75%            1.500000     1.0  \n",
      "max            1.800000     1.0  \n",
      "\n",
      " stats for virginica:\n",
      "       sepal length (cm)  sepal width (cm)  petal length (cm)  \\\n",
      "count           50.00000         50.000000          50.000000   \n",
      "mean             6.58800          2.974000           5.552000   \n",
      "std              0.63588          0.322497           0.551895   \n",
      "min              4.90000          2.200000           4.500000   \n",
      "25%              6.22500          2.800000           5.100000   \n",
      "50%              6.50000          3.000000           5.550000   \n",
      "75%              6.90000          3.175000           5.875000   \n",
      "max              7.90000          3.800000           6.900000   \n",
      "\n",
      "       petal width (cm)  target  \n",
      "count          50.00000    50.0  \n",
      "mean            2.02600     2.0  \n",
      "std             0.27465     0.0  \n",
      "min             1.40000     2.0  \n",
      "25%             1.80000     2.0  \n",
      "50%             2.00000     2.0  \n",
      "75%             2.30000     2.0  \n",
      "max             2.50000     2.0  \n"
     ]
    }
   ],
   "source": [
    "for species in df['species'].unique():\n",
    "    print(f\"\\n stats for {species}:\")\n",
    "    subset = df[df['species'] == species]\n",
    "    print(subset.describe(percentiles = [.25, .5, .75]))"
   ]
  },
  {
   "cell_type": "code",
   "execution_count": null,
   "id": "8699ca88-afe8-4e9e-86a8-e441cb87b44d",
   "metadata": {},
   "outputs": [],
   "source": []
  }
 ],
 "metadata": {
  "kernelspec": {
   "display_name": "Python 3 (ipykernel)",
   "language": "python",
   "name": "python3"
  },
  "language_info": {
   "codemirror_mode": {
    "name": "ipython",
    "version": 3
   },
   "file_extension": ".py",
   "mimetype": "text/x-python",
   "name": "python",
   "nbconvert_exporter": "python",
   "pygments_lexer": "ipython3",
   "version": "3.12.7"
  }
 },
 "nbformat": 4,
 "nbformat_minor": 5
}
