{
 "cells": [
  {
   "cell_type": "code",
   "execution_count": 1,
   "id": "075c02ff-d673-443f-bdeb-3b1b91087bcf",
   "metadata": {},
   "outputs": [
    {
     "name": "stdout",
     "output_type": "stream",
     "text": [
      "Collecting yfinance\n",
      "  Downloading yfinance-0.2.61-py2.py3-none-any.whl.metadata (5.8 kB)\n",
      "Requirement already satisfied: pandas>=1.3.0 in c:\\users\\bhakti\\anaconda3\\lib\\site-packages (from yfinance) (2.2.2)\n",
      "Requirement already satisfied: numpy>=1.16.5 in c:\\users\\bhakti\\anaconda3\\lib\\site-packages (from yfinance) (1.26.4)\n",
      "Requirement already satisfied: requests>=2.31 in c:\\users\\bhakti\\anaconda3\\lib\\site-packages (from yfinance) (2.32.3)\n",
      "Collecting multitasking>=0.0.7 (from yfinance)\n",
      "  Downloading multitasking-0.0.11-py3-none-any.whl.metadata (5.5 kB)\n",
      "Requirement already satisfied: platformdirs>=2.0.0 in c:\\users\\bhakti\\anaconda3\\lib\\site-packages (from yfinance) (3.10.0)\n",
      "Requirement already satisfied: pytz>=2022.5 in c:\\users\\bhakti\\anaconda3\\lib\\site-packages (from yfinance) (2024.1)\n",
      "Requirement already satisfied: frozendict>=2.3.4 in c:\\users\\bhakti\\anaconda3\\lib\\site-packages (from yfinance) (2.4.2)\n",
      "Collecting peewee>=3.16.2 (from yfinance)\n",
      "  Downloading peewee-3.18.1.tar.gz (3.0 MB)\n",
      "     ---------------------------------------- 0.0/3.0 MB ? eta -:--:--\n",
      "     --------------------------- ------------ 2.1/3.0 MB 9.8 MB/s eta 0:00:01\n",
      "     ---------------------------------------- 3.0/3.0 MB 8.1 MB/s eta 0:00:00\n",
      "  Installing build dependencies: started\n",
      "  Installing build dependencies: finished with status 'done'\n",
      "  Getting requirements to build wheel: started\n",
      "  Getting requirements to build wheel: finished with status 'done'\n",
      "  Preparing metadata (pyproject.toml): started\n",
      "  Preparing metadata (pyproject.toml): finished with status 'done'\n",
      "Requirement already satisfied: beautifulsoup4>=4.11.1 in c:\\users\\bhakti\\anaconda3\\lib\\site-packages (from yfinance) (4.12.3)\n",
      "Collecting curl_cffi>=0.7 (from yfinance)\n",
      "  Downloading curl_cffi-0.11.1-cp39-abi3-win_amd64.whl.metadata (15 kB)\n",
      "Requirement already satisfied: protobuf>=3.19.0 in c:\\users\\bhakti\\anaconda3\\lib\\site-packages (from yfinance) (4.25.3)\n",
      "Collecting websockets>=13.0 (from yfinance)\n",
      "  Downloading websockets-15.0.1-cp312-cp312-win_amd64.whl.metadata (7.0 kB)\n",
      "Requirement already satisfied: soupsieve>1.2 in c:\\users\\bhakti\\anaconda3\\lib\\site-packages (from beautifulsoup4>=4.11.1->yfinance) (2.5)\n",
      "Requirement already satisfied: cffi>=1.12.0 in c:\\users\\bhakti\\anaconda3\\lib\\site-packages (from curl_cffi>=0.7->yfinance) (1.17.1)\n",
      "Requirement already satisfied: certifi>=2024.2.2 in c:\\users\\bhakti\\anaconda3\\lib\\site-packages (from curl_cffi>=0.7->yfinance) (2024.8.30)\n",
      "Requirement already satisfied: python-dateutil>=2.8.2 in c:\\users\\bhakti\\anaconda3\\lib\\site-packages (from pandas>=1.3.0->yfinance) (2.9.0.post0)\n",
      "Requirement already satisfied: tzdata>=2022.7 in c:\\users\\bhakti\\anaconda3\\lib\\site-packages (from pandas>=1.3.0->yfinance) (2023.3)\n",
      "Requirement already satisfied: charset-normalizer<4,>=2 in c:\\users\\bhakti\\anaconda3\\lib\\site-packages (from requests>=2.31->yfinance) (3.3.2)\n",
      "Requirement already satisfied: idna<4,>=2.5 in c:\\users\\bhakti\\anaconda3\\lib\\site-packages (from requests>=2.31->yfinance) (3.7)\n",
      "Requirement already satisfied: urllib3<3,>=1.21.1 in c:\\users\\bhakti\\anaconda3\\lib\\site-packages (from requests>=2.31->yfinance) (2.2.3)\n",
      "Requirement already satisfied: pycparser in c:\\users\\bhakti\\anaconda3\\lib\\site-packages (from cffi>=1.12.0->curl_cffi>=0.7->yfinance) (2.21)\n",
      "Requirement already satisfied: six>=1.5 in c:\\users\\bhakti\\anaconda3\\lib\\site-packages (from python-dateutil>=2.8.2->pandas>=1.3.0->yfinance) (1.16.0)\n",
      "Downloading yfinance-0.2.61-py2.py3-none-any.whl (117 kB)\n",
      "Downloading curl_cffi-0.11.1-cp39-abi3-win_amd64.whl (1.4 MB)\n",
      "   ---------------------------------------- 0.0/1.4 MB ? eta -:--:--\n",
      "   ---------------------------------------- 1.4/1.4 MB 12.3 MB/s eta 0:00:00\n",
      "Downloading multitasking-0.0.11-py3-none-any.whl (8.5 kB)\n",
      "Downloading websockets-15.0.1-cp312-cp312-win_amd64.whl (176 kB)\n",
      "Building wheels for collected packages: peewee\n",
      "  Building wheel for peewee (pyproject.toml): started\n",
      "  Building wheel for peewee (pyproject.toml): finished with status 'done'\n",
      "  Created wheel for peewee: filename=peewee-3.18.1-py3-none-any.whl size=139097 sha256=ce4ebcf3506622c175a2e37c9dfebfbc5166bc7e88a4f67230abe81779c66aec\n",
      "  Stored in directory: c:\\users\\bhakti\\appdata\\local\\pip\\cache\\wheels\\1a\\57\\6a\\bb71346381d0d911cd4ce3026f1fa720da76707e4f01cf27dd\n",
      "Successfully built peewee\n",
      "Installing collected packages: peewee, multitasking, websockets, curl_cffi, yfinance\n",
      "Successfully installed curl_cffi-0.11.1 multitasking-0.0.11 peewee-3.18.1 websockets-15.0.1 yfinance-0.2.61\n",
      "Note: you may need to restart the kernel to use updated packages.\n"
     ]
    }
   ],
   "source": [
    "pip install yfinance"
   ]
  },
  {
   "cell_type": "code",
   "execution_count": 2,
   "id": "06d8558e-f7f4-43a1-8665-fc282da767aa",
   "metadata": {},
   "outputs": [
    {
     "name": "stdout",
     "output_type": "stream",
     "text": [
      "Collecting ta\n",
      "  Downloading ta-0.11.0.tar.gz (25 kB)\n",
      "  Preparing metadata (setup.py): started\n",
      "  Preparing metadata (setup.py): finished with status 'done'\n",
      "Requirement already satisfied: numpy in c:\\users\\bhakti\\anaconda3\\lib\\site-packages (from ta) (1.26.4)\n",
      "Requirement already satisfied: pandas in c:\\users\\bhakti\\anaconda3\\lib\\site-packages (from ta) (2.2.2)\n",
      "Requirement already satisfied: python-dateutil>=2.8.2 in c:\\users\\bhakti\\anaconda3\\lib\\site-packages (from pandas->ta) (2.9.0.post0)\n",
      "Requirement already satisfied: pytz>=2020.1 in c:\\users\\bhakti\\anaconda3\\lib\\site-packages (from pandas->ta) (2024.1)\n",
      "Requirement already satisfied: tzdata>=2022.7 in c:\\users\\bhakti\\anaconda3\\lib\\site-packages (from pandas->ta) (2023.3)\n",
      "Requirement already satisfied: six>=1.5 in c:\\users\\bhakti\\anaconda3\\lib\\site-packages (from python-dateutil>=2.8.2->pandas->ta) (1.16.0)\n",
      "Building wheels for collected packages: ta\n",
      "  Building wheel for ta (setup.py): started\n",
      "  Building wheel for ta (setup.py): finished with status 'done'\n",
      "  Created wheel for ta: filename=ta-0.11.0-py3-none-any.whl size=29421 sha256=1eb211cf32ae9e404b37fbd0875efe9caa4e00f22ff89c39529903b2b5ad248e\n",
      "  Stored in directory: c:\\users\\bhakti\\appdata\\local\\pip\\cache\\wheels\\5c\\a1\\5f\\c6b85a7d9452057be4ce68a8e45d77ba34234a6d46581777c6\n",
      "Successfully built ta\n",
      "Installing collected packages: ta\n",
      "Successfully installed ta-0.11.0\n",
      "Note: you may need to restart the kernel to use updated packages.\n"
     ]
    }
   ],
   "source": [
    "pip install ta"
   ]
  },
  {
   "cell_type": "code",
   "execution_count": 3,
   "id": "5e05df14-b4d8-47db-a416-441af45bf5dd",
   "metadata": {},
   "outputs": [],
   "source": [
    "import yfinance as yf"
   ]
  },
  {
   "cell_type": "code",
   "execution_count": 4,
   "id": "d1c69ed3-68b7-4fc5-bc82-338500c4d90b",
   "metadata": {},
   "outputs": [],
   "source": [
    "nifty_tickers = [\"RELIANCE.NS\", \"INFY.NS\", \"TCS.NS\"]"
   ]
  },
  {
   "cell_type": "code",
   "execution_count": 5,
   "id": "8733c777-daf8-4e04-b4dc-f472ddd5e640",
   "metadata": {},
   "outputs": [
    {
     "name": "stderr",
     "output_type": "stream",
     "text": [
      "[*********************100%***********************]  3 of 3 completed\n"
     ]
    }
   ],
   "source": [
    "data = yf.download(nifty_tickers, start = \"2020-01-01\", end = \"2024-12-31\", group_by='ticker', auto_adjust=True)"
   ]
  },
  {
   "cell_type": "code",
   "execution_count": 6,
   "id": "2a20588c-349f-45d1-8047-d71a383c110a",
   "metadata": {},
   "outputs": [],
   "source": [
    "import matplotlib.pyplot as plt"
   ]
  },
  {
   "cell_type": "code",
   "execution_count": 7,
   "id": "58a60a98-6c69-4546-b27a-a0faff1ed36b",
   "metadata": {},
   "outputs": [],
   "source": [
    "close_prices = data['RELIANCE.NS']['Close']"
   ]
  },
  {
   "cell_type": "code",
   "execution_count": 9,
   "id": "51b7198d-65a4-49c4-a733-1c1d2e2e8bc5",
   "metadata": {},
   "outputs": [
    {
     "data": {
      "text/plain": [
       "<Axes: title={'center': 'Reliance close price'}, xlabel='Date'>"
      ]
     },
     "execution_count": 9,
     "metadata": {},
     "output_type": "execute_result"
    },
    {
     "data": {
      "image/png": "[encoded data removed]",
      "text/plain": [
       "<Figure size 1200x400 with 1 Axes>"
      ]
     },
     "metadata": {},
     "output_type": "display_data"
    }
   ],
   "source": [
    "close_prices.plot(figsize=(12,4), title = 'Reliance close price')"
   ]
  },
  {
   "cell_type": "code",
   "execution_count": 10,
   "id": "2cb8868e-5dcc-4fdc-add2-0a632f98b30d",
   "metadata": {},
   "outputs": [],
   "source": [
    "import ta"
   ]
  },
  {
   "cell_type": "code",
   "execution_count": 12,
   "id": "010a508d-8b11-4376-8cfd-e0edc058c40c",
   "metadata": {},
   "outputs": [],
   "source": [
    "df = data['RELIANCE.NS'].copy()"
   ]
  },
  {
   "cell_type": "code",
   "execution_count": 13,
   "id": "bdf68bc9-6505-4516-b991-512504bb8d73",
   "metadata": {},
   "outputs": [
    {
     "name": "stderr",
     "output_type": "stream",
     "text": [
      "C:\\Users\\Bhakti\\anaconda3\\Lib\\site-packages\\ta\\trend.py:1030: FutureWarning: Series.__setitem__ treating keys as positions is deprecated. In a future version, integer keys will always be treated as labels (consistent with DataFrame behavior). To set a value by position, use `ser.iloc[pos] = value`\n",
      "  self._psar[i] = high2\n"
     ]
    }
   ],
   "source": [
    "df = ta.add_all_ta_features(df, open=\"Open\", high=\"High\", low=\"Low\", close=\"Close\", volume=\"Volume\", fillna=True)"
   ]
  },
  {
   "cell_type": "code",
   "execution_count": 14,
   "id": "590e63d5-414d-4f73-8165-9486085b57d9",
   "metadata": {},
   "outputs": [],
   "source": [
    "df['Target'] = df['Close'].shift(-1)"
   ]
  },
  {
   "cell_type": "code",
   "execution_count": 15,
   "id": "b9da2ad6-244a-4b40-b108-5e13e9c3e621",
   "metadata": {},
   "outputs": [],
   "source": [
    "df.dropna(inplace=True)"
   ]
  },
  {
   "cell_type": "code",
   "execution_count": 16,
   "id": "18e38830-1914-42ba-80b2-a04d16d583ad",
   "metadata": {},
   "outputs": [],
   "source": [
    "train= df.iloc[:-200]\n",
    "test=df.iloc[-200:]"
   ]
  },
  {
   "cell_type": "code",
   "execution_count": 18,
   "id": "b4ff9cdc-1753-4787-8c7f-5ec9628835e3",
   "metadata": {},
   "outputs": [],
   "source": [
    "x_train=train.drop(['Target'], axis=1)\n",
    "y_train = train['Target']\n",
    "x_test=test.drop(['Target'], axis=1)\n",
    "y_test= test['Target']"
   ]
  },
  {
   "cell_type": "code",
   "execution_count": 19,
   "id": "84322ec1-fbeb-4ba8-bb31-ed9bbdbdd3a5",
   "metadata": {},
   "outputs": [],
   "source": [
    "from sklearn.ensemble import RandomForestRegressor"
   ]
  },
  {
   "cell_type": "code",
   "execution_count": 20,
   "id": "43d71dd8-61bb-43bc-b019-554a8cb63147",
   "metadata": {},
   "outputs": [],
   "source": [
    "model = RandomForestRegressor(n_estimators=100, random_state=42)"
   ]
  },
  {
   "cell_type": "code",
   "execution_count": 21,
   "id": "6145cea7-de16-4e37-9b4b-91ce334679cf",
   "metadata": {},
   "outputs": [
    {
     "data": {
      "text/html": [
       "<style>#sk-container-id-1 {\n",
       "  /* Definition of color scheme common for light and dark mode */\n",
       "  --sklearn-color-text: black;\n",
       "  --sklearn-color-line: gray;\n",
       "  /* Definition of color scheme for unfitted estimators */\n",
       "  --sklearn-color-unfitted-level-0: #fff5e6;\n",
       "  --sklearn-color-unfitted-level-1: #f6e4d2;\n",
       "  --sklearn-color-unfitted-level-2: #ffe0b3;\n",
       "  --sklearn-color-unfitted-level-3: chocolate;\n",
       "  /* Definition of color scheme for fitted estimators */\n",
       "  --sklearn-color-fitted-level-0: #f0f8ff;\n",
       "  --sklearn-color-fitted-level-1: #d4ebff;\n",
       "  --sklearn-color-fitted-level-2: #b3dbfd;\n",
       "  --sklearn-color-fitted-level-3: cornflowerblue;\n",
       "\n",
       "  /* Specific color for light theme */\n",
       "  --sklearn-color-text-on-default-background: var(--sg-text-color, var(--theme-code-foreground, var(--jp-content-font-color1, black)));\n",
       "  --sklearn-color-background: var(--sg-background-color, var(--theme-background, var(--jp-layout-color0, white)));\n",
       "  --sklearn-color-border-box: var(--sg-text-color, var(--theme-code-foreground, var(--jp-content-font-color1, black)));\n",
       "  --sklearn-color-icon: #696969;\n",
       "\n",
       "  @media (prefers-color-scheme: dark) {\n",
       "    /* Redefinition of color scheme for dark theme */\n",
       "    --sklearn-color-text-on-default-background: var(--sg-text-color, var(--theme-code-foreground, var(--jp-content-font-color1, white)));\n",
       "    --sklearn-color-background: var(--sg-background-color, var(--theme-background, var(--jp-layout-color0, #111)));\n",
       "    --sklearn-color-border-box: var(--sg-text-color, var(--theme-code-foreground, var(--jp-content-font-color1, white)));\n",
       "    --sklearn-color-icon: #878787;\n",
       "  }\n",
       "}\n",
       "\n",
       "#sk-container-id-1 {\n",
       "  color: var(--sklearn-color-text);\n",
       "}\n",
       "\n",
       "#sk-container-id-1 pre {\n",
       "  padding: 0;\n",
       "}\n",
       "\n",
       "#sk-container-id-1 input.sk-hidden--visually {\n",
       "  border: 0;\n",
       "  clip: rect(1px 1px 1px 1px);\n",
       "  clip: rect(1px, 1px, 1px, 1px);\n",
       "  height: 1px;\n",
       "  margin: -1px;\n",
       "  overflow: hidden;\n",
       "  padding: 0;\n",
       "  position: absolute;\n",
       "  width: 1px;\n",
       "}\n",
       "\n",
       "#sk-container-id-1 div.sk-dashed-wrapped {\n",
       "  border: 1px dashed var(--sklearn-color-line);\n",
       "  margin: 0 0.4em 0.5em 0.4em;\n",
       "  box-sizing: border-box;\n",
       "  padding-bottom: 0.4em;\n",
       "  background-color: var(--sklearn-color-background);\n",
       "}\n",
       "\n",
       "#sk-container-id-1 div.sk-container {\n",
       "  /* jupyter's `normalize.less` sets `[hidden] { display: none; }`\n",
       "     but bootstrap.min.css set `[hidden] { display: none !important; }`\n",
       "     so we also need the `!important` here to be able to override the\n",
       "     default hidden behavior on the sphinx rendered scikit-learn.org.\n",
       "     See: https://github.com/scikit-learn/scikit-learn/issues/21755 */\n",
       "  display: inline-block !important;\n",
       "  position: relative;\n",
       "}\n",
       "\n",
       "#sk-container-id-1 div.sk-text-repr-fallback {\n",
       "  display: none;\n",
       "}\n",
       "\n",
       "div.sk-parallel-item,\n",
       "div.sk-serial,\n",
       "div.sk-item {\n",
       "  /* draw centered vertical line to link estimators */\n",
       "  background-image: linear-gradient(var(--sklearn-color-text-on-default-background), var(--sklearn-color-text-on-default-background));\n",
       "  background-size: 2px 100%;\n",
       "  background-repeat: no-repeat;\n",
       "  background-position: center center;\n",
       "}\n",
       "\n",
       "/* Parallel-specific style estimator block */\n",
       "\n",
       "#sk-container-id-1 div.sk-parallel-item::after {\n",
       "  content: \"\";\n",
       "  width: 100%;\n",
       "  border-bottom: 2px solid var(--sklearn-color-text-on-default-background);\n",
       "  flex-grow: 1;\n",
       "}\n",
       "\n",
       "#sk-container-id-1 div.sk-parallel {\n",
       "  display: flex;\n",
       "  align-items: stretch;\n",
       "  justify-content: center;\n",
       "  background-color: var(--sklearn-color-background);\n",
       "  position: relative;\n",
       "}\n",
       "\n",
       "#sk-container-id-1 div.sk-parallel-item {\n",
       "  display: flex;\n",
       "  flex-direction: column;\n",
       "}\n",
       "\n",
       "#sk-container-id-1 div.sk-parallel-item:first-child::after {\n",
       "  align-self: flex-end;\n",
       "  width: 50%;\n",
       "}\n",
       "\n",
       "#sk-container-id-1 div.sk-parallel-item:last-child::after {\n",
       "  align-self: flex-start;\n",
       "  width: 50%;\n",
       "}\n",
       "\n",
       "#sk-container-id-1 div.sk-parallel-item:only-child::after {\n",
       "  width: 0;\n",
       "}\n",
       "\n",
       "/* Serial-specific style estimator block */\n",
       "\n",
       "#sk-container-id-1 div.sk-serial {\n",
       "  display: flex;\n",
       "  flex-direction: column;\n",
       "  align-items: center;\n",
       "  background-color: var(--sklearn-color-background);\n",
       "  padding-right: 1em;\n",
       "  padding-left: 1em;\n",
       "}\n",
       "\n",
       "\n",
       "/* Toggleable style: style used for estimator/Pipeline/ColumnTransformer box that is\n",
       "clickable and can be expanded/collapsed.\n",
       "- Pipeline and ColumnTransformer use this feature and define the default style\n",
       "- Estimators will overwrite some part of the style using the `sk-estimator` class\n",
       "*/\n",
       "\n",
       "/* Pipeline and ColumnTransformer style (default) */\n",
       "\n",
       "#sk-container-id-1 div.sk-toggleable {\n",
       "  /* Default theme specific background. It is overwritten whether we have a\n",
       "  specific estimator or a Pipeline/ColumnTransformer */\n",
       "  background-color: var(--sklearn-color-background);\n",
       "}\n",
       "\n",
       "/* Toggleable label */\n",
       "#sk-container-id-1 label.sk-toggleable__label {\n",
       "  cursor: pointer;\n",
       "  display: block;\n",
       "  width: 100%;\n",
       "  margin-bottom: 0;\n",
       "  padding: 0.5em;\n",
       "  box-sizing: border-box;\n",
       "  text-align: center;\n",
       "}\n",
       "\n",
       "#sk-container-id-1 label.sk-toggleable__label-arrow:before {\n",
       "  /* Arrow on the left of the label */\n",
       "  content: \"▸\";\n",
       "  float: left;\n",
       "  margin-right: 0.25em;\n",
       "  color: var(--sklearn-color-icon);\n",
       "}\n",
       "\n",
       "#sk-container-id-1 label.sk-toggleable__label-arrow:hover:before {\n",
       "  color: var(--sklearn-color-text);\n",
       "}\n",
       "\n",
       "/* Toggleable content - dropdown */\n",
       "\n",
       "#sk-container-id-1 div.sk-toggleable__content {\n",
       "  max-height: 0;\n",
       "  max-width: 0;\n",
       "  overflow: hidden;\n",
       "  text-align: left;\n",
       "  /* unfitted */\n",
       "  background-color: var(--sklearn-color-unfitted-level-0);\n",
       "}\n",
       "\n",
       "#sk-container-id-1 div.sk-toggleable__content.fitted {\n",
       "  /* fitted */\n",
       "  background-color: var(--sklearn-color-fitted-level-0);\n",
       "}\n",
       "\n",
       "#sk-container-id-1 div.sk-toggleable__content pre {\n",
       "  margin: 0.2em;\n",
       "  border-radius: 0.25em;\n",
       "  color: var(--sklearn-color-text);\n",
       "  /* unfitted */\n",
       "  background-color: var(--sklearn-color-unfitted-level-0);\n",
       "}\n",
       "\n",
       "#sk-container-id-1 div.sk-toggleable__content.fitted pre {\n",
       "  /* unfitted */\n",
       "  background-color: var(--sklearn-color-fitted-level-0);\n",
       "}\n",
       "\n",
       "#sk-container-id-1 input.sk-toggleable__control:checked~div.sk-toggleable__content {\n",
       "  /* Expand drop-down */\n",
       "  max-height: 200px;\n",
       "  max-width: 100%;\n",
       "  overflow: auto;\n",
       "}\n",
       "\n",
       "#sk-container-id-1 input.sk-toggleable__control:checked~label.sk-toggleable__label-arrow:before {\n",
       "  content: \"▾\";\n",
       "}\n",
       "\n",
       "/* Pipeline/ColumnTransformer-specific style */\n",
       "\n",
       "#sk-container-id-1 div.sk-label input.sk-toggleable__control:checked~label.sk-toggleable__label {\n",
       "  color: var(--sklearn-color-text);\n",
       "  background-color: var(--sklearn-color-unfitted-level-2);\n",
       "}\n",
       "\n",
       "#sk-container-id-1 div.sk-label.fitted input.sk-toggleable__control:checked~label.sk-toggleable__label {\n",
       "  background-color: var(--sklearn-color-fitted-level-2);\n",
       "}\n",
       "\n",
       "/* Estimator-specific style */\n",
       "\n",
       "/* Colorize estimator box */\n",
       "#sk-container-id-1 div.sk-estimator input.sk-toggleable__control:checked~label.sk-toggleable__label {\n",
       "  /* unfitted */\n",
       "  background-color: var(--sklearn-color-unfitted-level-2);\n",
       "}\n",
       "\n",
       "#sk-container-id-1 div.sk-estimator.fitted input.sk-toggleable__control:checked~label.sk-toggleable__label {\n",
       "  /* fitted */\n",
       "  background-color: var(--sklearn-color-fitted-level-2);\n",
       "}\n",
       "\n",
       "#sk-container-id-1 div.sk-label label.sk-toggleable__label,\n",
       "#sk-container-id-1 div.sk-label label {\n",
       "  /* The background is the default theme color */\n",
       "  color: var(--sklearn-color-text-on-default-background);\n",
       "}\n",
       "\n",
       "/* On hover, darken the color of the background */\n",
       "#sk-container-id-1 div.sk-label:hover label.sk-toggleable__label {\n",
       "  color: var(--sklearn-color-text);\n",
       "  background-color: var(--sklearn-color-unfitted-level-2);\n",
       "}\n",
       "\n",
       "/* Label box, darken color on hover, fitted */\n",
       "#sk-container-id-1 div.sk-label.fitted:hover label.sk-toggleable__label.fitted {\n",
       "  color: var(--sklearn-color-text);\n",
       "  background-color: var(--sklearn-color-fitted-level-2);\n",
       "}\n",
       "\n",
       "/* Estimator label */\n",
       "\n",
       "#sk-container-id-1 div.sk-label label {\n",
       "  font-family: monospace;\n",
       "  font-weight: bold;\n",
       "  display: inline-block;\n",
       "  line-height: 1.2em;\n",
       "}\n",
       "\n",
       "#sk-container-id-1 div.sk-label-container {\n",
       "  text-align: center;\n",
       "}\n",
       "\n",
       "/* Estimator-specific */\n",
       "#sk-container-id-1 div.sk-estimator {\n",
       "  font-family: monospace;\n",
       "  border: 1px dotted var(--sklearn-color-border-box);\n",
       "  border-radius: 0.25em;\n",
       "  box-sizing: border-box;\n",
       "  margin-bottom: 0.5em;\n",
       "  /* unfitted */\n",
       "  background-color: var(--sklearn-color-unfitted-level-0);\n",
       "}\n",
       "\n",
       "#sk-container-id-1 div.sk-estimator.fitted {\n",
       "  /* fitted */\n",
       "  background-color: var(--sklearn-color-fitted-level-0);\n",
       "}\n",
       "\n",
       "/* on hover */\n",
       "#sk-container-id-1 div.sk-estimator:hover {\n",
       "  /* unfitted */\n",
       "  background-color: var(--sklearn-color-unfitted-level-2);\n",
       "}\n",
       "\n",
       "#sk-container-id-1 div.sk-estimator.fitted:hover {\n",
       "  /* fitted */\n",
       "  background-color: var(--sklearn-color-fitted-level-2);\n",
       "}\n",
       "\n",
       "/* Specification for estimator info (e.g. \"i\" and \"?\") */\n",
       "\n",
       "/* Common style for \"i\" and \"?\" */\n",
       "\n",
       ".sk-estimator-doc-link,\n",
       "a:link.sk-estimator-doc-link,\n",
       "a:visited.sk-estimator-doc-link {\n",
       "  float: right;\n",
       "  font-size: smaller;\n",
       "  line-height: 1em;\n",
       "  font-family: monospace;\n",
       "  background-color: var(--sklearn-color-background);\n",
       "  border-radius: 1em;\n",
       "  height: 1em;\n",
       "  width: 1em;\n",
       "  text-decoration: none !important;\n",
       "  margin-left: 1ex;\n",
       "  /* unfitted */\n",
       "  border: var(--sklearn-color-unfitted-level-1) 1pt solid;\n",
       "  color: var(--sklearn-color-unfitted-level-1);\n",
       "}\n",
       "\n",
       ".sk-estimator-doc-link.fitted,\n",
       "a:link.sk-estimator-doc-link.fitted,\n",
       "a:visited.sk-estimator-doc-link.fitted {\n",
       "  /* fitted */\n",
       "  border: var(--sklearn-color-fitted-level-1) 1pt solid;\n",
       "  color: var(--sklearn-color-fitted-level-1);\n",
       "}\n",
       "\n",
       "/* On hover */\n",
       "div.sk-estimator:hover .sk-estimator-doc-link:hover,\n",
       ".sk-estimator-doc-link:hover,\n",
       "div.sk-label-container:hover .sk-estimator-doc-link:hover,\n",
       ".sk-estimator-doc-link:hover {\n",
       "  /* unfitted */\n",
       "  background-color: var(--sklearn-color-unfitted-level-3);\n",
       "  color: var(--sklearn-color-background);\n",
       "  text-decoration: none;\n",
       "}\n",
       "\n",
       "div.sk-estimator.fitted:hover .sk-estimator-doc-link.fitted:hover,\n",
       ".sk-estimator-doc-link.fitted:hover,\n",
       "div.sk-label-container:hover .sk-estimator-doc-link.fitted:hover,\n",
       ".sk-estimator-doc-link.fitted:hover {\n",
       "  /* fitted */\n",
       "  background-color: var(--sklearn-color-fitted-level-3);\n",
       "  color: var(--sklearn-color-background);\n",
       "  text-decoration: none;\n",
       "}\n",
       "\n",
       "/* Span, style for the box shown on hovering the info icon */\n",
       ".sk-estimator-doc-link span {\n",
       "  display: none;\n",
       "  z-index: 9999;\n",
       "  position: relative;\n",
       "  font-weight: normal;\n",
       "  right: .2ex;\n",
       "  padding: .5ex;\n",
       "  margin: .5ex;\n",
       "  width: min-content;\n",
       "  min-width: 20ex;\n",
       "  max-width: 50ex;\n",
       "  color: var(--sklearn-color-text);\n",
       "  box-shadow: 2pt 2pt 4pt #999;\n",
       "  /* unfitted */\n",
       "  background: var(--sklearn-color-unfitted-level-0);\n",
       "  border: .5pt solid var(--sklearn-color-unfitted-level-3);\n",
       "}\n",
       "\n",
       ".sk-estimator-doc-link.fitted span {\n",
       "  /* fitted */\n",
       "  background: var(--sklearn-color-fitted-level-0);\n",
       "  border: var(--sklearn-color-fitted-level-3);\n",
       "}\n",
       "\n",
       ".sk-estimator-doc-link:hover span {\n",
       "  display: block;\n",
       "}\n",
       "\n",
       "/* \"?\"-specific style due to the `<a>` HTML tag */\n",
       "\n",
       "#sk-container-id-1 a.estimator_doc_link {\n",
       "  float: right;\n",
       "  font-size: 1rem;\n",
       "  line-height: 1em;\n",
       "  font-family: monospace;\n",
       "  background-color: var(--sklearn-color-background);\n",
       "  border-radius: 1rem;\n",
       "  height: 1rem;\n",
       "  width: 1rem;\n",
       "  text-decoration: none;\n",
       "  /* unfitted */\n",
       "  color: var(--sklearn-color-unfitted-level-1);\n",
       "  border: var(--sklearn-color-unfitted-level-1) 1pt solid;\n",
       "}\n",
       "\n",
       "#sk-container-id-1 a.estimator_doc_link.fitted {\n",
       "  /* fitted */\n",
       "  border: var(--sklearn-color-fitted-level-1) 1pt solid;\n",
       "  color: var(--sklearn-color-fitted-level-1);\n",
       "}\n",
       "\n",
       "/* On hover */\n",
       "#sk-container-id-1 a.estimator_doc_link:hover {\n",
       "  /* unfitted */\n",
       "  background-color: var(--sklearn-color-unfitted-level-3);\n",
       "  color: var(--sklearn-color-background);\n",
       "  text-decoration: none;\n",
       "}\n",
       "\n",
       "#sk-container-id-1 a.estimator_doc_link.fitted:hover {\n",
       "  /* fitted */\n",
       "  background-color: var(--sklearn-color-fitted-level-3);\n",
       "}\n",
       "</style><div id=\"sk-container-id-1\" class=\"sk-top-container\"><div class=\"sk-text-repr-fallback\"><pre>RandomForestRegressor(random_state=42)</pre><b>In a Jupyter environment, please rerun this cell to show the HTML representation or trust the notebook. <br />On GitHub, the HTML representation is unable to render, please try loading this page with nbviewer.org.</b></div><div class=\"sk-container\" hidden><div class=\"sk-item\"><div class=\"sk-estimator fitted sk-toggleable\"><input class=\"sk-toggleable__control sk-hidden--visually\" id=\"sk-estimator-id-1\" type=\"checkbox\" checked><label for=\"sk-estimator-id-1\" class=\"sk-toggleable__label fitted sk-toggleable__label-arrow fitted\">&nbsp;&nbsp;RandomForestRegressor<a class=\"sk-estimator-doc-link fitted\" rel=\"noreferrer\" target=\"_blank\" href=\"https://scikit-learn.org/1.5/modules/generated/sklearn.ensemble.RandomForestRegressor.html\">?<span>Documentation for RandomForestRegressor</span></a><span class=\"sk-estimator-doc-link fitted\">i<span>Fitted</span></span></label><div class=\"sk-toggleable__content fitted\"><pre>RandomForestRegressor(random_state=42)</pre></div> </div></div></div></div>"
      ],
      "text/plain": [
       "RandomForestRegressor(random_state=42)"
      ]
     },
     "execution_count": 21,
     "metadata": {},
     "output_type": "execute_result"
    }
   ],
   "source": [
    "model.fit(x_train, y_train)"
   ]
  },
  {
   "cell_type": "code",
   "execution_count": 22,
   "id": "1153fcea-883a-4250-b79a-9d9093b3dcea",
   "metadata": {},
   "outputs": [],
   "source": [
    "predictions =  model.predict(x_test)"
   ]
  },
  {
   "cell_type": "code",
   "execution_count": 23,
   "id": "3fa19068-14b8-419b-87dd-c98913c6aa18",
   "metadata": {},
   "outputs": [],
   "source": [
    "from sklearn.metrics import mean_absolute_error"
   ]
  },
  {
   "cell_type": "code",
   "execution_count": 24,
   "id": "2460273c-0b51-4734-8dee-abc280599a24",
   "metadata": {},
   "outputs": [],
   "source": [
    "mae = mean_absolute_error(y_test, predictions)"
   ]
  },
  {
   "cell_type": "code",
   "execution_count": 25,
   "id": "3c3ea9c5-c37f-4724-aec7-4445bfd7ab7e",
   "metadata": {},
   "outputs": [
    {
     "name": "stdout",
     "output_type": "stream",
     "text": [
      "MAE: 43.625676379394534\n"
     ]
    }
   ],
   "source": [
    "print(f\"MAE: {mae}\")"
   ]
  },
  {
   "cell_type": "code",
   "execution_count": 26,
   "id": "104ce3da-dbcb-4498-9937-14ca8c5cba76",
   "metadata": {},
   "outputs": [],
   "source": [
    "percent_mae = (mae/y_test.mean())*100"
   ]
  },
  {
   "cell_type": "code",
   "execution_count": 27,
   "id": "cd1c05cd-8a01-4f41-9eba-401525e3b9e8",
   "metadata": {},
   "outputs": [
    {
     "name": "stdout",
     "output_type": "stream",
     "text": [
      "MAE% = 3.0576262538085137\n"
     ]
    }
   ],
   "source": [
    "print(f\"MAE% = {percent_mae}\")"
   ]
  },
  {
   "cell_type": "code",
   "execution_count": 28,
   "id": "8ec33c43-21fc-4cd8-9c66-966c63742e90",
   "metadata": {},
   "outputs": [],
   "source": [
    "df['Target'] = df['Close'].pct_change().shift(-1)  # Next-day return"
   ]
  },
  {
   "cell_type": "code",
   "execution_count": 33,
   "id": "3bf9d6df-9452-459f-9715-8c2d17e7019b",
   "metadata": {},
   "outputs": [
    {
     "name": "stderr",
     "output_type": "stream",
     "text": [
      "C:\\Users\\Bhakti\\AppData\\Local\\Temp\\ipykernel_18684\\2898808189.py:23: PerformanceWarning: DataFrame is highly fragmented.  This is usually the result of calling `frame.insert` many times, which has poor performance.  Consider joining all columns at once using pd.concat(axis=1) instead. To get a de-fragmented frame, use `newframe = frame.copy()`\n",
      "  df['MACD_signal'] = macd.macd_signal()\n",
      "C:\\Users\\Bhakti\\AppData\\Local\\Temp\\ipykernel_18684\\2898808189.py:26: PerformanceWarning: DataFrame is highly fragmented.  This is usually the result of calling `frame.insert` many times, which has poor performance.  Consider joining all columns at once using pd.concat(axis=1) instead. To get a de-fragmented frame, use `newframe = frame.copy()`\n",
      "  df['Stochastic_K'] = stoch.stoch()\n",
      "C:\\Users\\Bhakti\\AppData\\Local\\Temp\\ipykernel_18684\\2898808189.py:27: PerformanceWarning: DataFrame is highly fragmented.  This is usually the result of calling `frame.insert` many times, which has poor performance.  Consider joining all columns at once using pd.concat(axis=1) instead. To get a de-fragmented frame, use `newframe = frame.copy()`\n",
      "  df['Stochastic_D'] = stoch.stoch_signal()\n",
      "C:\\Users\\Bhakti\\AppData\\Local\\Temp\\ipykernel_18684\\2898808189.py:29: PerformanceWarning: DataFrame is highly fragmented.  This is usually the result of calling `frame.insert` many times, which has poor performance.  Consider joining all columns at once using pd.concat(axis=1) instead. To get a de-fragmented frame, use `newframe = frame.copy()`\n",
      "  df['ADX'] = ta.trend.ADXIndicator(df['High'], df['Low'], df['Close']).adx()\n",
      "C:\\Users\\Bhakti\\AppData\\Local\\Temp\\ipykernel_18684\\2898808189.py:30: PerformanceWarning: DataFrame is highly fragmented.  This is usually the result of calling `frame.insert` many times, which has poor performance.  Consider joining all columns at once using pd.concat(axis=1) instead. To get a de-fragmented frame, use `newframe = frame.copy()`\n",
      "  df['CCI'] = ta.trend.CCIIndicator(df['High'], df['Low'], df['Close']).cci()\n",
      "C:\\Users\\Bhakti\\AppData\\Local\\Temp\\ipykernel_18684\\2898808189.py:31: PerformanceWarning: DataFrame is highly fragmented.  This is usually the result of calling `frame.insert` many times, which has poor performance.  Consider joining all columns at once using pd.concat(axis=1) instead. To get a de-fragmented frame, use `newframe = frame.copy()`\n",
      "  df['OBV'] = ta.volume.OnBalanceVolumeIndicator(df['Close'], df['Volume']).on_balance_volume()\n",
      "C:\\Users\\Bhakti\\AppData\\Local\\Temp\\ipykernel_18684\\2898808189.py:32: PerformanceWarning: DataFrame is highly fragmented.  This is usually the result of calling `frame.insert` many times, which has poor performance.  Consider joining all columns at once using pd.concat(axis=1) instead. To get a de-fragmented frame, use `newframe = frame.copy()`\n",
      "  df['MFI'] = ta.volume.MFIIndicator(df['High'], df['Low'], df['Close'], df['Volume']).money_flow_index()\n",
      "C:\\Users\\Bhakti\\AppData\\Local\\Temp\\ipykernel_18684\\2898808189.py:33: PerformanceWarning: DataFrame is highly fragmented.  This is usually the result of calling `frame.insert` many times, which has poor performance.  Consider joining all columns at once using pd.concat(axis=1) instead. To get a de-fragmented frame, use `newframe = frame.copy()`\n",
      "  df['ATR'] = ta.volatility.AverageTrueRange(df['High'], df['Low'], df['Close']).average_true_range()\n",
      "C:\\Users\\Bhakti\\AppData\\Local\\Temp\\ipykernel_18684\\2898808189.py:36: PerformanceWarning: DataFrame is highly fragmented.  This is usually the result of calling `frame.insert` many times, which has poor performance.  Consider joining all columns at once using pd.concat(axis=1) instead. To get a de-fragmented frame, use `newframe = frame.copy()`\n",
      "  df['Return_1d'] = df['Close'].pct_change(1)\n",
      "C:\\Users\\Bhakti\\AppData\\Local\\Temp\\ipykernel_18684\\2898808189.py:37: PerformanceWarning: DataFrame is highly fragmented.  This is usually the result of calling `frame.insert` many times, which has poor performance.  Consider joining all columns at once using pd.concat(axis=1) instead. To get a de-fragmented frame, use `newframe = frame.copy()`\n",
      "  df['Return_3d'] = df['Close'].pct_change(3)\n",
      "C:\\Users\\Bhakti\\AppData\\Local\\Temp\\ipykernel_18684\\2898808189.py:38: PerformanceWarning: DataFrame is highly fragmented.  This is usually the result of calling `frame.insert` many times, which has poor performance.  Consider joining all columns at once using pd.concat(axis=1) instead. To get a de-fragmented frame, use `newframe = frame.copy()`\n",
      "  df['Volume_Change'] = df['Volume'].pct_change(1)\n"
     ]
    }
   ],
   "source": [
    "import pandas as pd\n",
    "import ta\n",
    "\n",
    "# --- Lag Features ---\n",
    "df['Close_lag1'] = df['Close'].shift(1)\n",
    "df['Close_lag2'] = df['Close'].shift(2)\n",
    "df['Close_lag3'] = df['Close'].shift(3)\n",
    "\n",
    "# --- Moving Averages ---\n",
    "df['SMA_10'] = df['Close'].rolling(window=10).mean()\n",
    "df['SMA_20'] = df['Close'].rolling(window=20).mean()\n",
    "df['EMA_10'] = df['Close'].ewm(span=10, adjust=False).mean()\n",
    "df['EMA_20'] = df['Close'].ewm(span=20, adjust=False).mean()\n",
    "\n",
    "# --- Rolling Standard Deviation (Volatility) ---\n",
    "df['RollingStd_5'] = df['Close'].rolling(window=5).std()\n",
    "df['RollingStd_10'] = df['Close'].rolling(window=10).std()\n",
    "\n",
    "# --- Technical Indicators from ta library ---\n",
    "df['RSI'] = ta.momentum.RSIIndicator(df['Close']).rsi()\n",
    "macd = ta.trend.MACD(df['Close'])\n",
    "df['MACD'] = macd.macd()\n",
    "df['MACD_signal'] = macd.macd_signal()\n",
    "\n",
    "stoch = ta.momentum.StochasticOscillator(df['High'], df['Low'], df['Close'])\n",
    "df['Stochastic_K'] = stoch.stoch()\n",
    "df['Stochastic_D'] = stoch.stoch_signal()\n",
    "\n",
    "df['ADX'] = ta.trend.ADXIndicator(df['High'], df['Low'], df['Close']).adx()\n",
    "df['CCI'] = ta.trend.CCIIndicator(df['High'], df['Low'], df['Close']).cci()\n",
    "df['OBV'] = ta.volume.OnBalanceVolumeIndicator(df['Close'], df['Volume']).on_balance_volume()\n",
    "df['MFI'] = ta.volume.MFIIndicator(df['High'], df['Low'], df['Close'], df['Volume']).money_flow_index()\n",
    "df['ATR'] = ta.volatility.AverageTrueRange(df['High'], df['Low'], df['Close']).average_true_range()\n",
    "\n",
    "# --- Return & Volume Change Features ---\n",
    "df['Return_1d'] = df['Close'].pct_change(1)\n",
    "df['Return_3d'] = df['Close'].pct_change(3)\n",
    "df['Volume_Change'] = df['Volume'].pct_change(1)\n",
    "\n",
    "# --- Drop NaNs created by rolling/shift operations ---\n",
    "df.dropna(inplace=True)\n"
   ]
  },
  {
   "cell_type": "code",
   "execution_count": 34,
   "id": "01f9eb20-213e-4b91-9ba6-8ba0861a3a16",
   "metadata": {},
   "outputs": [],
   "source": [
    "features = [\n",
    "    'Close_lag1', 'Close_lag2', 'Close_lag3',\n",
    "    'SMA_10', 'SMA_20', 'EMA_10', 'EMA_20',\n",
    "    'RollingStd_5', 'RollingStd_10',\n",
    "    'RSI', 'MACD', 'MACD_signal',\n",
    "    'Stochastic_K', 'Stochastic_D',\n",
    "    'ADX', 'CCI', 'OBV', 'MFI', 'ATR',\n",
    "    'Return_1d', 'Return_3d', 'Volume_Change'\n",
    "]\n"
   ]
  },
  {
   "cell_type": "code",
   "execution_count": 35,
   "id": "e6405669-509b-447d-b759-7c5c78204c6e",
   "metadata": {},
   "outputs": [],
   "source": [
    "from sklearn.preprocessing import StandardScaler\n",
    "X = df[features]\n",
    "X_scaled = StandardScaler().fit_transform(X)\n"
   ]
  },
  {
   "cell_type": "code",
   "execution_count": 36,
   "id": "16c0ea3a-eb32-4f8b-ac58-ad1e637c3c1d",
   "metadata": {},
   "outputs": [
    {
     "name": "stderr",
     "output_type": "stream",
     "text": [
      "C:\\Users\\Bhakti\\AppData\\Local\\Temp\\ipykernel_18684\\1455820348.py:4: PerformanceWarning: DataFrame is highly fragmented.  This is usually the result of calling `frame.insert` many times, which has poor performance.  Consider joining all columns at once using pd.concat(axis=1) instead. To get a de-fragmented frame, use `newframe = frame.copy()`\n",
      "  df['Volatility'] = df['Close'].rolling(5).std()\n"
     ]
    }
   ],
   "source": [
    "df['SMA_10'] = df['Close'].rolling(10).mean()\n",
    "df['EMA_20'] = df['Close'].ewm(span=20).mean()\n",
    "df['RSI'] = ta.momentum.RSIIndicator(df['Close']).rsi()\n",
    "df['Volatility'] = df['Close'].rolling(5).std()"
   ]
  },
  {
   "cell_type": "code",
   "execution_count": 37,
   "id": "7f01189c-d684-43f3-b8d9-5f3510461ecf",
   "metadata": {},
   "outputs": [
    {
     "name": "stderr",
     "output_type": "stream",
     "text": [
      "C:\\Users\\Bhakti\\AppData\\Local\\Temp\\ipykernel_18684\\4009315572.py:1: PerformanceWarning: DataFrame is highly fragmented.  This is usually the result of calling `frame.insert` many times, which has poor performance.  Consider joining all columns at once using pd.concat(axis=1) instead. To get a de-fragmented frame, use `newframe = frame.copy()`\n",
      "  df['lag_1'] = df['Close'].shift(1)\n",
      "C:\\Users\\Bhakti\\AppData\\Local\\Temp\\ipykernel_18684\\4009315572.py:2: PerformanceWarning: DataFrame is highly fragmented.  This is usually the result of calling `frame.insert` many times, which has poor performance.  Consider joining all columns at once using pd.concat(axis=1) instead. To get a de-fragmented frame, use `newframe = frame.copy()`\n",
      "  df['lag_2'] = df['Close'].shift(2)\n"
     ]
    }
   ],
   "source": [
    "df['lag_1'] = df['Close'].shift(1)\n",
    "df['lag_2'] = df['Close'].shift(2)\n"
   ]
  },
  {
   "cell_type": "code",
   "execution_count": 38,
   "id": "ddefcf8f-3fc1-43f8-adab-57a9aee13667",
   "metadata": {},
   "outputs": [
    {
     "ename": "ModuleNotFoundError",
     "evalue": "No module named 'xgboost'",
     "output_type": "error",
     "traceback": [
      "\u001b[1;31m---------------------------------------------------------------------------\u001b[0m",
      "\u001b[1;31mModuleNotFoundError\u001b[0m                       Traceback (most recent call last)",
      "Cell \u001b[1;32mIn[38], line 1\u001b[0m\n\u001b[1;32m----> 1\u001b[0m \u001b[38;5;28;01mfrom\u001b[39;00m \u001b[38;5;21;01mxgboost\u001b[39;00m \u001b[38;5;28;01mimport\u001b[39;00m XGBRegressor\n\u001b[0;32m      2\u001b[0m \u001b[38;5;28;01mfrom\u001b[39;00m \u001b[38;5;21;01msklearn\u001b[39;00m\u001b[38;5;21;01m.\u001b[39;00m\u001b[38;5;21;01mensemble\u001b[39;00m \u001b[38;5;28;01mimport\u001b[39;00m RandomForestClassifier\n\u001b[0;32m      4\u001b[0m reg_model \u001b[38;5;241m=\u001b[39m XGBRegressor()\n",
      "\u001b[1;31mModuleNotFoundError\u001b[0m: No module named 'xgboost'"
     ]
    }
   ],
   "source": [
    "from xgboost import XGBRegressor\n",
    "from sklearn.ensemble import RandomForestClassifier\n",
    "\n",
    "reg_model = XGBRegressor()\n",
    "clf_model = RandomForestClassifier()\n"
   ]
  },
  {
   "cell_type": "code",
   "execution_count": 39,
   "id": "9491fae8-d83d-48a3-8cac-901e3864f9b8",
   "metadata": {},
   "outputs": [
    {
     "name": "stdout",
     "output_type": "stream",
     "text": [
      "Collecting xgboost\n",
      "  Downloading xgboost-3.0.2-py3-none-win_amd64.whl.metadata (2.1 kB)\n",
      "Requirement already satisfied: numpy in c:\\users\\bhakti\\anaconda3\\lib\\site-packages (from xgboost) (1.26.4)\n",
      "Requirement already satisfied: scipy in c:\\users\\bhakti\\anaconda3\\lib\\site-packages (from xgboost) (1.13.1)\n",
      "Downloading xgboost-3.0.2-py3-none-win_amd64.whl (150.0 MB)\n",
      "   ---------------------------------------- 0.0/150.0 MB ? eta -:--:--\n",
      "   ---------------------------------------- 1.8/150.0 MB 10.0 MB/s eta 0:00:15\n",
      "    --------------------------------------- 2.4/150.0 MB 5.6 MB/s eta 0:00:27\n",
      "   - -------------------------------------- 3.9/150.0 MB 6.0 MB/s eta 0:00:25\n",
      "   - -------------------------------------- 5.2/150.0 MB 6.2 MB/s eta 0:00:24\n",
      "   - -------------------------------------- 6.8/150.0 MB 6.3 MB/s eta 0:00:23\n",
      "   -- ------------------------------------- 8.1/150.0 MB 6.4 MB/s eta 0:00:23\n",
      "   -- ------------------------------------- 9.4/150.0 MB 6.2 MB/s eta 0:00:23\n",
      "   -- ------------------------------------- 11.0/150.0 MB 6.3 MB/s eta 0:00:23\n",
      "   --- ------------------------------------ 12.3/150.0 MB 6.3 MB/s eta 0:00:22\n",
      "   --- ------------------------------------ 13.6/150.0 MB 6.3 MB/s eta 0:00:22\n",
      "   --- ------------------------------------ 14.9/150.0 MB 6.3 MB/s eta 0:00:22\n",
      "   ---- ----------------------------------- 16.5/150.0 MB 6.3 MB/s eta 0:00:22\n",
      "   ---- ----------------------------------- 17.8/150.0 MB 6.3 MB/s eta 0:00:21\n",
      "   ----- ---------------------------------- 19.1/150.0 MB 6.3 MB/s eta 0:00:21\n",
      "   ----- ---------------------------------- 20.4/150.0 MB 6.3 MB/s eta 0:00:21\n",
      "   ----- ---------------------------------- 21.8/150.0 MB 6.3 MB/s eta 0:00:21\n",
      "   ------ --------------------------------- 23.3/150.0 MB 6.3 MB/s eta 0:00:20\n",
      "   ------ --------------------------------- 24.6/150.0 MB 6.3 MB/s eta 0:00:20\n",
      "   ------ --------------------------------- 26.0/150.0 MB 6.3 MB/s eta 0:00:20\n",
      "   ------- -------------------------------- 27.3/150.0 MB 6.3 MB/s eta 0:00:20\n",
      "   ------- -------------------------------- 28.6/150.0 MB 6.3 MB/s eta 0:00:20\n",
      "   -------- ------------------------------- 30.1/150.0 MB 6.3 MB/s eta 0:00:19\n",
      "   -------- ------------------------------- 31.5/150.0 MB 6.3 MB/s eta 0:00:19\n",
      "   -------- ------------------------------- 32.8/150.0 MB 6.3 MB/s eta 0:00:19\n",
      "   --------- ------------------------------ 34.1/150.0 MB 6.3 MB/s eta 0:00:19\n",
      "   --------- ------------------------------ 35.4/150.0 MB 6.3 MB/s eta 0:00:19\n",
      "   --------- ------------------------------ 37.0/150.0 MB 6.3 MB/s eta 0:00:18\n",
      "   ---------- ----------------------------- 38.3/150.0 MB 6.3 MB/s eta 0:00:18\n",
      "   ---------- ----------------------------- 39.6/150.0 MB 6.3 MB/s eta 0:00:18\n",
      "   ---------- ----------------------------- 40.9/150.0 MB 6.3 MB/s eta 0:00:18\n",
      "   ----------- ---------------------------- 42.5/150.0 MB 6.3 MB/s eta 0:00:17\n",
      "   ----------- ---------------------------- 43.8/150.0 MB 6.3 MB/s eta 0:00:17\n",
      "   ------------ --------------------------- 45.1/150.0 MB 6.3 MB/s eta 0:00:17\n",
      "   ------------ --------------------------- 46.4/150.0 MB 6.3 MB/s eta 0:00:17\n",
      "   ------------ --------------------------- 47.7/150.0 MB 6.3 MB/s eta 0:00:17\n",
      "   ------------- -------------------------- 49.3/150.0 MB 6.3 MB/s eta 0:00:16\n",
      "   ------------- -------------------------- 50.6/150.0 MB 6.3 MB/s eta 0:00:16\n",
      "   ------------- -------------------------- 51.9/150.0 MB 6.3 MB/s eta 0:00:16\n",
      "   -------------- ------------------------- 53.2/150.0 MB 6.3 MB/s eta 0:00:16\n",
      "   -------------- ------------------------- 54.8/150.0 MB 6.3 MB/s eta 0:00:16\n",
      "   -------------- ------------------------- 56.1/150.0 MB 6.3 MB/s eta 0:00:15\n",
      "   --------------- ------------------------ 57.4/150.0 MB 6.3 MB/s eta 0:00:15\n",
      "   --------------- ------------------------ 58.7/150.0 MB 6.3 MB/s eta 0:00:15\n",
      "   ---------------- ----------------------- 60.0/150.0 MB 6.3 MB/s eta 0:00:15\n",
      "   ---------------- ----------------------- 61.3/150.0 MB 6.3 MB/s eta 0:00:15\n",
      "   ---------------- ----------------------- 62.9/150.0 MB 6.3 MB/s eta 0:00:14\n",
      "   ----------------- ---------------------- 64.2/150.0 MB 6.3 MB/s eta 0:00:14\n",
      "   ----------------- ---------------------- 65.5/150.0 MB 6.3 MB/s eta 0:00:14\n",
      "   ----------------- ---------------------- 66.8/150.0 MB 6.3 MB/s eta 0:00:14\n",
      "   ------------------ --------------------- 68.4/150.0 MB 6.3 MB/s eta 0:00:13\n",
      "   ------------------ --------------------- 69.7/150.0 MB 6.3 MB/s eta 0:00:13\n",
      "   ------------------ --------------------- 71.0/150.0 MB 6.3 MB/s eta 0:00:13\n",
      "   ------------------- -------------------- 72.4/150.0 MB 6.3 MB/s eta 0:00:13\n",
      "   ------------------- -------------------- 72.9/150.0 MB 6.3 MB/s eta 0:00:13\n",
      "   ------------------- -------------------- 73.9/150.0 MB 6.2 MB/s eta 0:00:13\n",
      "   -------------------- ------------------- 75.8/150.0 MB 6.3 MB/s eta 0:00:12\n",
      "   -------------------- ------------------- 77.3/150.0 MB 6.3 MB/s eta 0:00:12\n",
      "   -------------------- ------------------- 78.6/150.0 MB 6.3 MB/s eta 0:00:12\n",
      "   --------------------- ------------------ 80.2/150.0 MB 6.3 MB/s eta 0:00:12\n",
      "   --------------------- ------------------ 81.5/150.0 MB 6.3 MB/s eta 0:00:11\n",
      "   ---------------------- ----------------- 82.8/150.0 MB 6.3 MB/s eta 0:00:11\n",
      "   ---------------------- ----------------- 84.1/150.0 MB 6.3 MB/s eta 0:00:11\n",
      "   ---------------------- ----------------- 85.5/150.0 MB 6.3 MB/s eta 0:00:11\n",
      "   ----------------------- ---------------- 86.8/150.0 MB 6.3 MB/s eta 0:00:11\n",
      "   ----------------------- ---------------- 88.3/150.0 MB 6.3 MB/s eta 0:00:10\n",
      "   ----------------------- ---------------- 89.7/150.0 MB 6.3 MB/s eta 0:00:10\n",
      "   ------------------------ --------------- 91.0/150.0 MB 6.3 MB/s eta 0:00:10\n",
      "   ------------------------ --------------- 92.3/150.0 MB 6.3 MB/s eta 0:00:10\n",
      "   ------------------------ --------------- 93.3/150.0 MB 6.3 MB/s eta 0:00:10\n",
      "   ------------------------- -------------- 95.2/150.0 MB 6.3 MB/s eta 0:00:09\n",
      "   ------------------------- -------------- 96.5/150.0 MB 6.3 MB/s eta 0:00:09\n",
      "   -------------------------- ------------- 97.8/150.0 MB 6.3 MB/s eta 0:00:09\n",
      "   -------------------------- ------------- 99.1/150.0 MB 6.3 MB/s eta 0:00:09\n",
      "   -------------------------- ------------- 100.4/150.0 MB 6.3 MB/s eta 0:00:08\n",
      "   --------------------------- ------------ 102.0/150.0 MB 6.3 MB/s eta 0:00:08\n",
      "   --------------------------- ------------ 103.3/150.0 MB 6.3 MB/s eta 0:00:08\n",
      "   --------------------------- ------------ 104.6/150.0 MB 6.3 MB/s eta 0:00:08\n",
      "   ---------------------------- ----------- 106.2/150.0 MB 6.3 MB/s eta 0:00:07\n",
      "   ---------------------------- ----------- 107.5/150.0 MB 6.3 MB/s eta 0:00:07\n",
      "   ----------------------------- ---------- 108.8/150.0 MB 6.3 MB/s eta 0:00:07\n",
      "   ----------------------------- ---------- 110.1/150.0 MB 6.3 MB/s eta 0:00:07\n",
      "   ----------------------------- ---------- 111.4/150.0 MB 6.3 MB/s eta 0:00:07\n",
      "   ------------------------------ --------- 113.0/150.0 MB 6.3 MB/s eta 0:00:06\n",
      "   ------------------------------ --------- 114.3/150.0 MB 6.3 MB/s eta 0:00:06\n",
      "   ------------------------------ --------- 115.6/150.0 MB 6.3 MB/s eta 0:00:06\n",
      "   ------------------------------- -------- 116.9/150.0 MB 6.3 MB/s eta 0:00:06\n",
      "   ------------------------------- -------- 118.5/150.0 MB 6.3 MB/s eta 0:00:06\n",
      "   ------------------------------- -------- 119.8/150.0 MB 6.3 MB/s eta 0:00:05\n",
      "   -------------------------------- ------- 121.1/150.0 MB 6.3 MB/s eta 0:00:05\n",
      "   -------------------------------- ------- 122.4/150.0 MB 6.3 MB/s eta 0:00:05\n",
      "   --------------------------------- ------ 123.7/150.0 MB 6.3 MB/s eta 0:00:05\n",
      "   --------------------------------- ------ 125.3/150.0 MB 6.3 MB/s eta 0:00:04\n",
      "   --------------------------------- ------ 126.6/150.0 MB 6.3 MB/s eta 0:00:04\n",
      "   ---------------------------------- ----- 127.9/150.0 MB 6.3 MB/s eta 0:00:04\n",
      "   ---------------------------------- ----- 129.2/150.0 MB 6.3 MB/s eta 0:00:04\n",
      "   ---------------------------------- ----- 130.5/150.0 MB 6.3 MB/s eta 0:00:04\n",
      "   ----------------------------------- ---- 132.1/150.0 MB 6.3 MB/s eta 0:00:03\n",
      "   ----------------------------------- ---- 133.4/150.0 MB 6.3 MB/s eta 0:00:03\n",
      "   ----------------------------------- ---- 134.7/150.0 MB 6.3 MB/s eta 0:00:03\n",
      "   ------------------------------------ --- 136.1/150.0 MB 6.3 MB/s eta 0:00:03\n",
      "   ------------------------------------ --- 137.4/150.0 MB 6.3 MB/s eta 0:00:03\n",
      "   ------------------------------------ --- 138.7/150.0 MB 6.3 MB/s eta 0:00:02\n",
      "   ------------------------------------- -- 140.2/150.0 MB 6.3 MB/s eta 0:00:02\n",
      "   ------------------------------------- -- 141.6/150.0 MB 6.3 MB/s eta 0:00:02\n",
      "   -------------------------------------- - 142.9/150.0 MB 6.3 MB/s eta 0:00:02\n",
      "   -------------------------------------- - 144.2/150.0 MB 6.3 MB/s eta 0:00:01\n",
      "   -------------------------------------- - 145.5/150.0 MB 6.3 MB/s eta 0:00:01\n",
      "   ---------------------------------------  147.1/150.0 MB 6.3 MB/s eta 0:00:01\n",
      "   ---------------------------------------  148.4/150.0 MB 6.3 MB/s eta 0:00:01\n",
      "   ---------------------------------------  149.7/150.0 MB 6.3 MB/s eta 0:00:01\n",
      "   ---------------------------------------  149.9/150.0 MB 6.3 MB/s eta 0:00:01\n",
      "   ---------------------------------------  149.9/150.0 MB 6.3 MB/s eta 0:00:01\n",
      "   ---------------------------------------- 150.0/150.0 MB 6.1 MB/s eta 0:00:00\n",
      "Installing collected packages: xgboost\n",
      "Successfully installed xgboost-3.0.2\n",
      "Note: you may need to restart the kernel to use updated packages.\n"
     ]
    }
   ],
   "source": [
    "pip install xgboost"
   ]
  },
  {
   "cell_type": "code",
   "execution_count": null,
   "id": "3c7859e8-d890-4dc4-a39b-d1fd2f11d2d8",
   "metadata": {},
   "outputs": [],
   "source": []
  }
 ],
 "metadata": {
  "kernelspec": {
   "display_name": "Python 3 (ipykernel)",
   "language": "python",
   "name": "python3"
  },
  "language_info": {
   "codemirror_mode": {
    "name": "ipython",
    "version": 3
   },
   "file_extension": ".py",
   "mimetype": "text/x-python",
   "name": "python",
   "nbconvert_exporter": "python",
   "pygments_lexer": "ipython3",
   "version": "3.12.7"
  }
 },
 "nbformat": 4,
 "nbformat_minor": 5
}
