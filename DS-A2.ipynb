{
 "cells": [
  {
   "cell_type": "code",
   "execution_count": 1,
   "id": "edb9bfaf-42f6-47e2-8e83-bb3531f9febf",
   "metadata": {},
   "outputs": [],
   "source": [
    "import pandas as pd"
   ]
  },
  {
   "cell_type": "code",
   "execution_count": 2,
   "id": "bd7724ba-0630-4297-9c08-b86741cd8582",
   "metadata": {},
   "outputs": [],
   "source": [
    "import numpy as np"
   ]
  },
  {
   "cell_type": "code",
   "execution_count": 9,
   "id": "599f9593-46a6-4a4b-bad8-3d9b41af8c2f",
   "metadata": {},
   "outputs": [],
   "source": [
    "data = {\n",
    "    'student_id':[1,2,3,4,5,6,7],\n",
    "    'Math_Score':[88, 92, 95, np.nan, 67, 105, 90],\n",
    "    'English_Score': [78, 85, np.nan, 74, 70, 90, 88],\n",
    "    'Attendance_Rate': [0.92, 0.85, 0.88, 0.76, np.nan, 0.95, 0.89]\n",
    "}"
   ]
  },
  {
   "cell_type": "code",
   "execution_count": 10,
   "id": "00d7d038-67c6-4c13-b780-862acbd2c1fb",
   "metadata": {},
   "outputs": [],
   "source": [
    "df= pd.DataFrame(data)"
   ]
  },
  {
   "cell_type": "code",
   "execution_count": 18,
   "id": "2fc38cdc-474a-440d-ac50-4e4a92882c18",
   "metadata": {},
   "outputs": [
    {
     "data": {
      "text/html": [
       "<div>\n",
       "<style scoped>\n",
       "    .dataframe tbody tr th:only-of-type {\n",
       "        vertical-align: middle;\n",
       "    }\n",
       "\n",
       "    .dataframe tbody tr th {\n",
       "        vertical-align: top;\n",
       "    }\n",
       "\n",
       "    .dataframe thead th {\n",
       "        text-align: right;\n",
       "    }\n",
       "</style>\n",
       "<table border=\"1\" class=\"dataframe\">\n",
       "  <thead>\n",
       "    <tr style=\"text-align: right;\">\n",
       "      <th></th>\n",
       "      <th>student_id</th>\n",
       "      <th>Math_Score</th>\n",
       "      <th>English_Score</th>\n",
       "      <th>Attendance_Rate</th>\n",
       "    </tr>\n",
       "  </thead>\n",
       "  <tbody>\n",
       "    <tr>\n",
       "      <th>0</th>\n",
       "      <td>1</td>\n",
       "      <td>88.0</td>\n",
       "      <td>78.000000</td>\n",
       "      <td>0.920</td>\n",
       "    </tr>\n",
       "    <tr>\n",
       "      <th>1</th>\n",
       "      <td>2</td>\n",
       "      <td>92.0</td>\n",
       "      <td>85.000000</td>\n",
       "      <td>0.850</td>\n",
       "    </tr>\n",
       "    <tr>\n",
       "      <th>2</th>\n",
       "      <td>3</td>\n",
       "      <td>95.0</td>\n",
       "      <td>80.833333</td>\n",
       "      <td>0.880</td>\n",
       "    </tr>\n",
       "    <tr>\n",
       "      <th>3</th>\n",
       "      <td>4</td>\n",
       "      <td>89.5</td>\n",
       "      <td>74.000000</td>\n",
       "      <td>0.760</td>\n",
       "    </tr>\n",
       "    <tr>\n",
       "      <th>4</th>\n",
       "      <td>5</td>\n",
       "      <td>67.0</td>\n",
       "      <td>70.000000</td>\n",
       "      <td>0.875</td>\n",
       "    </tr>\n",
       "    <tr>\n",
       "      <th>5</th>\n",
       "      <td>6</td>\n",
       "      <td>105.0</td>\n",
       "      <td>90.000000</td>\n",
       "      <td>0.950</td>\n",
       "    </tr>\n",
       "    <tr>\n",
       "      <th>6</th>\n",
       "      <td>7</td>\n",
       "      <td>90.0</td>\n",
       "      <td>88.000000</td>\n",
       "      <td>0.890</td>\n",
       "    </tr>\n",
       "  </tbody>\n",
       "</table>\n",
       "</div>"
      ],
      "text/plain": [
       "   student_id  Math_Score  English_Score  Attendance_Rate\n",
       "0           1        88.0      78.000000            0.920\n",
       "1           2        92.0      85.000000            0.850\n",
       "2           3        95.0      80.833333            0.880\n",
       "3           4        89.5      74.000000            0.760\n",
       "4           5        67.0      70.000000            0.875\n",
       "5           6       105.0      90.000000            0.950\n",
       "6           7        90.0      88.000000            0.890"
      ]
     },
     "execution_count": 18,
     "metadata": {},
     "output_type": "execute_result"
    }
   ],
   "source": [
    "df.head(7)"
   ]
  },
  {
   "cell_type": "code",
   "execution_count": 11,
   "id": "b8ab9c53-1969-44a8-9528-6fef317ddcaa",
   "metadata": {},
   "outputs": [
    {
     "data": {
      "text/plain": [
       "student_id         0\n",
       "Math_Score         1\n",
       "English_Score      1\n",
       "Attendance_Rate    1\n",
       "dtype: int64"
      ]
     },
     "execution_count": 11,
     "metadata": {},
     "output_type": "execute_result"
    }
   ],
   "source": [
    "df.isnull().sum()"
   ]
  },
  {
   "cell_type": "code",
   "execution_count": 12,
   "id": "a44ef809-5a7f-4b37-8a48-9bf17a48f03f",
   "metadata": {},
   "outputs": [
    {
     "name": "stderr",
     "output_type": "stream",
     "text": [
      "C:\\Users\\Bhakti\\AppData\\Local\\Temp\\ipykernel_27528\\3101659982.py:1: FutureWarning: A value is trying to be set on a copy of a DataFrame or Series through chained assignment using an inplace method.\n",
      "The behavior will change in pandas 3.0. This inplace method will never work because the intermediate object on which we are setting values always behaves as a copy.\n",
      "\n",
      "For example, when doing 'df[col].method(value, inplace=True)', try using 'df.method({col: value}, inplace=True)' or df[col] = df[col].method(value) instead, to perform the operation inplace on the original object.\n",
      "\n",
      "\n",
      "  df['Math_Score'].fillna(df['Math_Score'].mean(), inplace=True)\n"
     ]
    }
   ],
   "source": [
    "df['Math_Score'].fillna(df['Math_Score'].mean(), inplace=True)"
   ]
  },
  {
   "cell_type": "code",
   "execution_count": 13,
   "id": "b23a286a-f31b-4a9f-a17b-42a7a23deb63",
   "metadata": {},
   "outputs": [],
   "source": [
    "df.fillna({'Math_Score': df['Math_Score'].mean()}, inplace=True)"
   ]
  },
  {
   "cell_type": "code",
   "execution_count": 14,
   "id": "dc07e31c-9834-4215-99cf-1335adb97ead",
   "metadata": {},
   "outputs": [],
   "source": [
    "df.fillna({'English_Score': df['English_Score'].mean()}, inplace=True)"
   ]
  },
  {
   "cell_type": "code",
   "execution_count": 15,
   "id": "1d2fc6ba-1881-40aa-90a6-ee449a10a233",
   "metadata": {},
   "outputs": [],
   "source": [
    "df.fillna({'Attendance_Rate': df['Attendance_Rate'].mean()}, inplace=True)"
   ]
  },
  {
   "cell_type": "code",
   "execution_count": 16,
   "id": "7c1033e9-49c3-4308-a161-24741cb858e6",
   "metadata": {},
   "outputs": [
    {
     "data": {
      "text/html": [
       "<div>\n",
       "<style scoped>\n",
       "    .dataframe tbody tr th:only-of-type {\n",
       "        vertical-align: middle;\n",
       "    }\n",
       "\n",
       "    .dataframe tbody tr th {\n",
       "        vertical-align: top;\n",
       "    }\n",
       "\n",
       "    .dataframe thead th {\n",
       "        text-align: right;\n",
       "    }\n",
       "</style>\n",
       "<table border=\"1\" class=\"dataframe\">\n",
       "  <thead>\n",
       "    <tr style=\"text-align: right;\">\n",
       "      <th></th>\n",
       "      <th>student_id</th>\n",
       "      <th>Math_Score</th>\n",
       "      <th>English_Score</th>\n",
       "      <th>Attendance_Rate</th>\n",
       "    </tr>\n",
       "  </thead>\n",
       "  <tbody>\n",
       "    <tr>\n",
       "      <th>0</th>\n",
       "      <td>1</td>\n",
       "      <td>88.0</td>\n",
       "      <td>78.000000</td>\n",
       "      <td>0.920</td>\n",
       "    </tr>\n",
       "    <tr>\n",
       "      <th>1</th>\n",
       "      <td>2</td>\n",
       "      <td>92.0</td>\n",
       "      <td>85.000000</td>\n",
       "      <td>0.850</td>\n",
       "    </tr>\n",
       "    <tr>\n",
       "      <th>2</th>\n",
       "      <td>3</td>\n",
       "      <td>95.0</td>\n",
       "      <td>80.833333</td>\n",
       "      <td>0.880</td>\n",
       "    </tr>\n",
       "    <tr>\n",
       "      <th>3</th>\n",
       "      <td>4</td>\n",
       "      <td>89.5</td>\n",
       "      <td>74.000000</td>\n",
       "      <td>0.760</td>\n",
       "    </tr>\n",
       "    <tr>\n",
       "      <th>4</th>\n",
       "      <td>5</td>\n",
       "      <td>67.0</td>\n",
       "      <td>70.000000</td>\n",
       "      <td>0.875</td>\n",
       "    </tr>\n",
       "  </tbody>\n",
       "</table>\n",
       "</div>"
      ],
      "text/plain": [
       "   student_id  Math_Score  English_Score  Attendance_Rate\n",
       "0           1        88.0      78.000000            0.920\n",
       "1           2        92.0      85.000000            0.850\n",
       "2           3        95.0      80.833333            0.880\n",
       "3           4        89.5      74.000000            0.760\n",
       "4           5        67.0      70.000000            0.875"
      ]
     },
     "execution_count": 16,
     "metadata": {},
     "output_type": "execute_result"
    }
   ],
   "source": [
    "df.head()"
   ]
  },
  {
   "cell_type": "code",
   "execution_count": 17,
   "id": "c70145a9-9ad0-4a86-85a9-c5c6adadcb0b",
   "metadata": {},
   "outputs": [
    {
     "data": {
      "text/html": [
       "<div>\n",
       "<style scoped>\n",
       "    .dataframe tbody tr th:only-of-type {\n",
       "        vertical-align: middle;\n",
       "    }\n",
       "\n",
       "    .dataframe tbody tr th {\n",
       "        vertical-align: top;\n",
       "    }\n",
       "\n",
       "    .dataframe thead th {\n",
       "        text-align: right;\n",
       "    }\n",
       "</style>\n",
       "<table border=\"1\" class=\"dataframe\">\n",
       "  <thead>\n",
       "    <tr style=\"text-align: right;\">\n",
       "      <th></th>\n",
       "      <th>student_id</th>\n",
       "      <th>Math_Score</th>\n",
       "      <th>English_Score</th>\n",
       "      <th>Attendance_Rate</th>\n",
       "    </tr>\n",
       "  </thead>\n",
       "  <tbody>\n",
       "    <tr>\n",
       "      <th>0</th>\n",
       "      <td>1</td>\n",
       "      <td>88.0</td>\n",
       "      <td>78.000000</td>\n",
       "      <td>0.920</td>\n",
       "    </tr>\n",
       "    <tr>\n",
       "      <th>1</th>\n",
       "      <td>2</td>\n",
       "      <td>92.0</td>\n",
       "      <td>85.000000</td>\n",
       "      <td>0.850</td>\n",
       "    </tr>\n",
       "    <tr>\n",
       "      <th>2</th>\n",
       "      <td>3</td>\n",
       "      <td>95.0</td>\n",
       "      <td>80.833333</td>\n",
       "      <td>0.880</td>\n",
       "    </tr>\n",
       "    <tr>\n",
       "      <th>3</th>\n",
       "      <td>4</td>\n",
       "      <td>89.5</td>\n",
       "      <td>74.000000</td>\n",
       "      <td>0.760</td>\n",
       "    </tr>\n",
       "    <tr>\n",
       "      <th>4</th>\n",
       "      <td>5</td>\n",
       "      <td>67.0</td>\n",
       "      <td>70.000000</td>\n",
       "      <td>0.875</td>\n",
       "    </tr>\n",
       "    <tr>\n",
       "      <th>5</th>\n",
       "      <td>6</td>\n",
       "      <td>105.0</td>\n",
       "      <td>90.000000</td>\n",
       "      <td>0.950</td>\n",
       "    </tr>\n",
       "    <tr>\n",
       "      <th>6</th>\n",
       "      <td>7</td>\n",
       "      <td>90.0</td>\n",
       "      <td>88.000000</td>\n",
       "      <td>0.890</td>\n",
       "    </tr>\n",
       "  </tbody>\n",
       "</table>\n",
       "</div>"
      ],
      "text/plain": [
       "   student_id  Math_Score  English_Score  Attendance_Rate\n",
       "0           1        88.0      78.000000            0.920\n",
       "1           2        92.0      85.000000            0.850\n",
       "2           3        95.0      80.833333            0.880\n",
       "3           4        89.5      74.000000            0.760\n",
       "4           5        67.0      70.000000            0.875\n",
       "5           6       105.0      90.000000            0.950\n",
       "6           7        90.0      88.000000            0.890"
      ]
     },
     "execution_count": 17,
     "metadata": {},
     "output_type": "execute_result"
    }
   ],
   "source": [
    "df.head(7)"
   ]
  },
  {
   "cell_type": "code",
   "execution_count": 19,
   "id": "e8621c91-1ca6-4f05-952b-9f17a9b33d82",
   "metadata": {},
   "outputs": [],
   "source": [
    "from scipy.stats import zscore"
   ]
  },
  {
   "cell_type": "code",
   "execution_count": 20,
   "id": "fe670ff8-b16b-44e9-9b06-ea25f49d052a",
   "metadata": {},
   "outputs": [],
   "source": [
    "zscore = np.abs(zscore(df[['Math_Score', 'English_Score']]))"
   ]
  },
  {
   "cell_type": "code",
   "execution_count": 21,
   "id": "b0ffd2a1-5605-4a4c-8b3b-5891c97f878e",
   "metadata": {},
   "outputs": [],
   "source": [
    "outliers = (zscore>3)"
   ]
  },
  {
   "cell_type": "code",
   "execution_count": 22,
   "id": "ea5ca482-497b-4318-8592-606106e2f8d3",
   "metadata": {},
   "outputs": [
    {
     "name": "stdout",
     "output_type": "stream",
     "text": [
      "outliers: Empty DataFrame\n",
      "Columns: [student_id, Math_Score, English_Score, Attendance_Rate]\n",
      "Index: []\n"
     ]
    }
   ],
   "source": [
    "print('outliers:', df[outliers.any(axis=1)])"
   ]
  },
  {
   "cell_type": "code",
   "execution_count": 24,
   "id": "c5d9df54-96c9-4b5f-a7a0-3fe6ed7cd686",
   "metadata": {},
   "outputs": [],
   "source": [
    "Q1 = df['Math_Score'].quantile(0.25)\n",
    "Q3 = df['Math_Score'].quantile(0.75)\n",
    "IQR= Q3-Q1\n",
    "l_b = Q1-1.5*IQR\n",
    "u_b = Q3+1.5*IQR"
   ]
  },
  {
   "cell_type": "code",
   "execution_count": 25,
   "id": "b2dfe0cc-307e-4504-a761-d18e3214294c",
   "metadata": {},
   "outputs": [],
   "source": [
    "df['Math_Score'] = np.where(df['Math_Score']> u_b, u_b, np.where(df['Math_Score']<l_b, l_b, df['Math_Score']))"
   ]
  },
  {
   "cell_type": "code",
   "execution_count": 26,
   "id": "58000a5c-9d20-4b69-8d8b-c24622a54d19",
   "metadata": {},
   "outputs": [
    {
     "name": "stdout",
     "output_type": "stream",
     "text": [
      "0.1397253239285244\n"
     ]
    }
   ],
   "source": [
    "print(df['Math_Score'].skew())"
   ]
  },
  {
   "cell_type": "code",
   "execution_count": 28,
   "id": "84e452d8-1a7b-4f95-bba9-e6def3196614",
   "metadata": {},
   "outputs": [],
   "source": [
    "df['Math_Score_Log'] = np.log(df['Math_Score']+1)"
   ]
  },
  {
   "cell_type": "code",
   "execution_count": 29,
   "id": "08597b8a-e0ed-4f70-a471-11eb846c45be",
   "metadata": {},
   "outputs": [
    {
     "name": "stdout",
     "output_type": "stream",
     "text": [
      "Skewness After Transformation: -0.0518200404104629\n"
     ]
    }
   ],
   "source": [
    "print(\"Skewness After Transformation:\", df['Math_Score_Log'].skew())"
   ]
  },
  {
   "cell_type": "code",
   "execution_count": 30,
   "id": "974e4bbc-291a-48ce-9e32-1807c37e3f45",
   "metadata": {},
   "outputs": [
    {
     "name": "stdout",
     "output_type": "stream",
     "text": [
      "   student_id  Math_Score  English_Score  Attendance_Rate  Math_Score_Log\n",
      "0           1      88.000      78.000000            0.920        4.488636\n",
      "1           2      92.000      85.000000            0.850        4.532599\n",
      "2           3      95.000      80.833333            0.880        4.564348\n",
      "3           4      89.500      74.000000            0.760        4.505350\n",
      "4           5      81.625      70.000000            0.875        4.414312\n",
      "5           6     100.625      90.000000            0.950        4.621290\n",
      "6           7      90.000      88.000000            0.890        4.510860\n"
     ]
    }
   ],
   "source": [
    "print(df)"
   ]
  },
  {
   "cell_type": "code",
   "execution_count": null,
   "id": "bb9abe68-0bb5-43fd-aaf0-c840d7c025a3",
   "metadata": {},
   "outputs": [],
   "source": [
    "    "
   ]
  }
 ],
 "metadata": {
  "kernelspec": {
   "display_name": "Python 3 (ipykernel)",
   "language": "python",
   "name": "python3"
  },
  "language_info": {
   "codemirror_mode": {
    "name": "ipython",
    "version": 3
   },
   "file_extension": ".py",
   "mimetype": "text/x-python",
   "name": "python",
   "nbconvert_exporter": "python",
   "pygments_lexer": "ipython3",
   "version": "3.12.7"
  }
 },
 "nbformat": 4,
 "nbformat_minor": 5
}
